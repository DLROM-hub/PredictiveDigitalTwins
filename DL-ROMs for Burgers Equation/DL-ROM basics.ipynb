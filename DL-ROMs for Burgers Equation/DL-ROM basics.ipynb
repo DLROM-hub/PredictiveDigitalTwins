{
  "nbformat": 4,
  "nbformat_minor": 0,
  "metadata": {
    "colab": {
      "provenance": [],
      "authorship_tag": "ABX9TyMgSBXxD8m8WP/ZHGS60fy2",
      "include_colab_link": true
    },
    "kernelspec": {
      "name": "python3",
      "display_name": "Python 3"
    },
    "language_info": {
      "name": "python"
    }
  },
  "cells": [
    {
      "cell_type": "markdown",
      "metadata": {
        "id": "view-in-github",
        "colab_type": "text"
      },
      "source": [
        "<a href=\"https://colab.research.google.com/github/DLROM-hub/PredictiveDigitalTwins/blob/main/DL-ROMs%20for%20Burgers%20Equation/DL-ROM%20basics.ipynb\" target=\"_parent\"><img src=\"https://colab.research.google.com/assets/colab-badge.svg\" alt=\"Open In Colab\"/></a>"
      ]
    },
    {
      "cell_type": "markdown",
      "source": [
        "# Parametrized Burgers Equation vs DL-ROMs"
      ],
      "metadata": {
        "id": "0AQbnFoZ33NZ"
      }
    },
    {
      "cell_type": "markdown",
      "source": [
        "### 0. Installing and importing the $\\texttt{dlroms}$ package"
      ],
      "metadata": {
        "id": "MLGBLrzN3-vq"
      }
    },
    {
      "cell_type": "code",
      "execution_count": null,
      "metadata": {
        "id": "4rzx8BUOUwNp"
      },
      "outputs": [],
      "source": [
        "try:\n",
        "     from dlroms import*\n",
        "except:\n",
        "     !pip install git+https://github.com/NicolaRFranco/dlroms.git\n",
        "     from dlroms import*"
      ]
    },
    {
      "cell_type": "code",
      "source": [
        "x, t, u = solveBurgers(400)"
      ],
      "metadata": {
        "id": "dLfMESpvw5sa"
      },
      "execution_count": null,
      "outputs": []
    }
  ]
}
