{
  "cells": [
    {
      "cell_type": "markdown",
      "metadata": {
        "id": "view-in-github",
        "colab_type": "text"
      },
      "source": [
        "<a href=\"https://colab.research.google.com/github/DLROM-hub/PredictiveDigitalTwins/blob/main/Application%20to%20Digital%20Twins/Digital%20Twin%20simulation.ipynb\" target=\"_parent\"><img src=\"https://colab.research.google.com/assets/colab-badge.svg\" alt=\"Open In Colab\"/></a>"
      ]
    },
    {
      "cell_type": "markdown",
      "metadata": {
        "id": "0AQbnFoZ33NZ"
      },
      "source": [
        "# **Toy example**: Air pollution minimization"
      ]
    },
    {
      "cell_type": "markdown",
      "metadata": {
        "id": "MLGBLrzN3-vq"
      },
      "source": [
        "### Setting up the code"
      ]
    },
    {
      "cell_type": "code",
      "execution_count": 1,
      "metadata": {
        "colab": {
          "base_uri": "https://localhost:8080/"
        },
        "id": "4rzx8BUOUwNp",
        "outputId": "9ebe72a6-23d0-460f-ff7a-161204690b5d"
      },
      "outputs": [
        {
          "output_type": "stream",
          "name": "stdout",
          "text": [
            "Notebook ready.\n"
          ]
        }
      ],
      "source": [
        "# Importing / installing auxiliary libraries\n",
        "import sys\n",
        "import os\n",
        "\n",
        "# DL-ROMs package: a Python library for deep learning based ROMs\n",
        "try:\n",
        "     from dlroms import*\n",
        "except:\n",
        "     !pip -q install git+https://github.com/NicolaRFranco/dlroms.git\n",
        "     from dlroms import*\n",
        "\n",
        "# Course source code (auxiliary functions, datasets, etc.)\n",
        "path = \"/content/PredictiveDigitalTwins/Application to Digital Twins/\"\n",
        "if(not os.path.isdir(path)):\n",
        "  ! git clone --quiet https://github.com/DLROM-hub/PredictiveDigitalTwins.git > /dev/null\n",
        "\n",
        "sys.path.append(path)\n",
        "from IPython.display import clear_output as clc\n",
        "clc()\n",
        "print(\"Notebook ready.\")"
      ]
    },
    {
      "cell_type": "markdown",
      "metadata": {
        "id": "k__r_PnbRzvt"
      },
      "source": [
        "## **Problem definition**\n",
        "Bla bla bla..."
      ]
    },
    {
      "cell_type": "markdown",
      "metadata": {
        "id": "WK8A679fRlk4"
      },
      "source": [
        "## **Full order model** (FOM solver)\n",
        "We consider a FOM solver based on bla bla..."
      ]
    },
    {
      "cell_type": "code",
      "execution_count": 2,
      "metadata": {
        "colab": {
          "base_uri": "https://localhost:8080/",
          "height": 223
        },
        "id": "MrWnZXSRU6xj",
        "outputId": "40a0d3a0-9d9e-4796-eae6-8316af8fc56f"
      },
      "outputs": [
        {
          "output_type": "display_data",
          "data": {
            "text/plain": [
              "<Figure size 300x300 with 1 Axes>"
            ],
            "image/png": "[encoded data removed]"
          },
          "metadata": {}
        }
      ],
      "source": [
        "# Example of a single call to the FOM solver\n",
        "from AirPollutionEquation import FOMsolver, FOMspace\n",
        "from numpy import pi\n",
        "u = FOMsolver(10, 14, 6, 10, pi/6)\n",
        "clc()\n",
        "\n",
        "from AirPollutionEquation import plotTarget\n",
        "plt.figure(figsize = (3, 3))\n",
        "fe.plot(u, FOMspace, cmap = 'jet', levels = 50)\n",
        "plotTarget()"
      ]
    },
    {
      "cell_type": "code",
      "execution_count": 3,
      "metadata": {
        "colab": {
          "base_uri": "https://localhost:8080/"
        },
        "id": "4tgvqf0awsSx",
        "outputId": "a7546223-6e76-4075-c032-8c1944643e56"
      },
      "outputs": [
        {
          "output_type": "execute_result",
          "data": {
            "text/plain": [
              "0.9195914099151287"
            ]
          },
          "metadata": {},
          "execution_count": 3
        }
      ],
      "source": [
        "# Cost functional that we are willing to minimize\n",
        "from AirPollutionEquation import PollutionLevel\n",
        "PollutionLevel(u)"
      ]
    },
    {
      "cell_type": "code",
      "source": [
        "# Loading FOM simulations\n",
        "from AirPollutionEquation import loadData\n",
        "mu, u = loadData()\n",
        "\n",
        "# Transfering to Pytorch\n",
        "mu = CPU.tensor(mu)\n",
        "u = CPU.tensor(u)"
      ],
      "metadata": {
        "id": "hP1o7v2kF_Ff"
      },
      "execution_count": 4,
      "outputs": []
    },
    {
      "cell_type": "code",
      "source": [
        "l2 = L2(FOMspace)"
      ],
      "metadata": {
        "id": "VZOmsnyfGPx0"
      },
      "execution_count": 6,
      "outputs": []
    }
  ],
  "metadata": {
    "colab": {
      "provenance": [],
      "authorship_tag": "ABX9TyPFG9LMgwUvgkxDW4IgcEeB",
      "include_colab_link": true
    },
    "kernelspec": {
      "display_name": "Python 3",
      "name": "python3"
    },
    "language_info": {
      "name": "python"
    }
  },
  "nbformat": 4,
  "nbformat_minor": 0
}