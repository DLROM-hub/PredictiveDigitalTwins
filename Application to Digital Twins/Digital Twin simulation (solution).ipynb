{
  "cells": [
    {
      "cell_type": "markdown",
      "metadata": {
        "id": "view-in-github",
        "colab_type": "text"
      },
      "source": [
        "<a href=\"https://colab.research.google.com/github/DLROM-hub/PredictiveDigitalTwins/blob/main/Application%20to%20Digital%20Twins/Digital%20Twin%20simulation%20(solution).ipynb\" target=\"_parent\"><img src=\"https://colab.research.google.com/assets/colab-badge.svg\" alt=\"Open In Colab\"/></a>"
      ]
    },
    {
      "cell_type": "markdown",
      "metadata": {
        "id": "0AQbnFoZ33NZ"
      },
      "source": [
        "# **Toy example**: Air pollution minimization"
      ]
    },
    {
      "cell_type": "markdown",
      "metadata": {
        "id": "MLGBLrzN3-vq"
      },
      "source": [
        "### Setting up the code"
      ]
    },
    {
      "cell_type": "code",
      "execution_count": null,
      "metadata": {
        "colab": {
          "base_uri": "https://localhost:8080/"
        },
        "id": "4rzx8BUOUwNp",
        "outputId": "48ca280f-83d1-4329-fd4d-b63190023255"
      },
      "outputs": [
        {
          "output_type": "stream",
          "name": "stdout",
          "text": [
            "Notebook ready.\n"
          ]
        }
      ],
      "source": [
        "# Importing / installing auxiliary libraries\n",
        "import sys\n",
        "import os\n",
        "\n",
        "# DL-ROMs package: a Python library for deep learning based ROMs\n",
        "try:\n",
        "     from dlroms import*\n",
        "except:\n",
        "     !pip -q install git+https://github.com/NicolaRFranco/dlroms.git\n",
        "     from dlroms import*\n",
        "\n",
        "# Course source code (auxiliary functions, datasets, etc.)\n",
        "path = \"/content/PredictiveDigitalTwins/Application to Digital Twins/\"\n",
        "if(not os.path.isdir(path)):\n",
        "  ! git clone --quiet https://github.com/DLROM-hub/PredictiveDigitalTwins.git > /dev/null\n",
        "\n",
        "sys.path.append(path)\n",
        "from IPython.display import clear_output as clc\n",
        "clc()\n",
        "print(\"Notebook ready.\")"
      ]
    },
    {
      "cell_type": "markdown",
      "metadata": {
        "id": "k__r_PnbRzvt"
      },
      "source": [
        "## **Problem definition**\n",
        "**A given factory is asked to adjust its production process according to weather conditions, with the objective of minimizing the air pollution over a nearby city. The factory consists of 4 main facilities, each coming with its own chimney.**\n",
        "</br></br></br>\n",
        "Let $\\Omega\\subset\\mathbb{R}^{2}$ be a suitable region containing both the city and the factory, together with all its facilities. Let $u:\\Omega\\to[0,+∞)$ denote the pollutant concentration across $\\Omega$. Let $D\\subset\\Omega$ represent the city. We model the air pollution as the solution to the following parametrized advection-diffusion problem\n",
        "$$$$\n",
        "$$-\\Delta u + \\mathbf{b}_{\\theta}\\nabla u = \\sum_{i=1}^{4}d_{i}\\delta_{x_{i}},$$\n",
        "$$$$\n",
        "where $x_{i}\\in\\Omega$ is the location of the $i$th chimney,  $\\mathbf{b}_{\\theta}=[\\cos\\theta,\\sin\\theta]$ models the wind field, $\\theta$ is the direction of the wind, and $d_{i}$ is a production coefficient. Here $\\delta_{x_{i}}$ is a suitable forcing term, localized and centered ad $x_{i}$.\n",
        "\n",
        "\n",
        "Given a weather condition, exemplified by the wind direction $\\theta$, the factory needs to adjust the production rates $d_{1},d_{2},d_{3},d_{4}$ across the 4 facilities as to:\n",
        "\n",
        "$\\quad\\quad$ i) **fulfill the production demand**, i.e. ensuring that $\\sum_{i=1}^{4}d_{i}=40$;\n",
        "\n",
        "$\\quad\\quad$ ii) **minimize the pollution across the city**, modeled by the functional\n",
        "$J(u)=\\int_{D}u(\\mathbf{x})d\\mathbf{x}.$\n",
        "\n",
        "Ideally, we would like $J$ to be below given value. Here, we assume the legal value of air pollution to be 0.1.\n",
        "</br></br>\n",
        "**Note 1**: to simulate a real-world scenario, we assume weather conditions to be unknown (and to evolve over time). In particular, the actual direction of the wind field has to be estimated from *sensor measurements*.\n",
        "\n",
        "**Note 2**: we would like the adjustments to the production stream to happen *in real-time*."
      ]
    },
    {
      "cell_type": "markdown",
      "metadata": {
        "id": "WK8A679fRlk4"
      },
      "source": [
        "## **Full order model** (FOM solver)\n",
        "We consider a FOM solver based on the Finite Element method. Solutions are discretized over a structured triangular mesh. The solver is available in the $\\texttt{AirPollutionEquation.py}$ module. Solutions can be plotted using the $\\texttt{dlroms.fespaces}$ library (imported as \"fe\")."
      ]
    },
    {
      "cell_type": "code",
      "execution_count": null,
      "metadata": {
        "colab": {
          "base_uri": "https://localhost:8080/",
          "height": 223
        },
        "id": "MrWnZXSRU6xj",
        "outputId": "a9482b92-065f-4e3f-d789-9bc9911e8b3a"
      },
      "outputs": [
        {
          "output_type": "display_data",
          "data": {
            "text/plain": [
              "<Figure size 300x300 with 1 Axes>"
            ],
            "image/png": "[encoded data removed]"
          },
          "metadata": {}
        }
      ],
      "source": [
        "# Example of a single call to the FOM solver\n",
        "from AirPollutionEquation import FOMsolver, FOMspace\n",
        "from numpy import pi\n",
        "u = FOMsolver(10, 14, 6, 10, pi/6)\n",
        "clc()\n",
        "\n",
        "from AirPollutionEquation import plotTarget\n",
        "plt.figure(figsize = (3, 3))\n",
        "fe.plot(u, FOMspace, cmap = 'jet', levels = 50)\n",
        "plotTarget()"
      ]
    },
    {
      "cell_type": "code",
      "execution_count": null,
      "metadata": {
        "colab": {
          "base_uri": "https://localhost:8080/"
        },
        "id": "4tgvqf0awsSx",
        "outputId": "05c97e06-7bde-4b6a-f17d-c621a24ccb93"
      },
      "outputs": [
        {
          "output_type": "execute_result",
          "data": {
            "text/plain": [
              "0.9195914099151287"
            ]
          },
          "metadata": {},
          "execution_count": 3
        }
      ],
      "source": [
        "# Cost functional that we are willing to minimize\n",
        "from AirPollutionEquation import PollutionLevel\n",
        "PollutionLevel(u)"
      ]
    },
    {
      "cell_type": "code",
      "source": [
        "# Loading FOM simulations\n",
        "from AirPollutionEquation import loadData\n",
        "mu, u = loadData()\n",
        "\n",
        "# Transfering to Pytorch\n",
        "mu = CPU.tensor(mu)\n",
        "u = CPU.tensor(u)"
      ],
      "metadata": {
        "id": "hP1o7v2kF_Ff"
      },
      "execution_count": null,
      "outputs": []
    },
    {
      "cell_type": "markdown",
      "source": [
        "## **Reduced order model** (DL-based surrogate)\n",
        "We can use any ROM of choice. If none, we can load the pretrained one that is available on Github."
      ],
      "metadata": {
        "id": "4clCH2MJgeRS"
      }
    },
    {
      "cell_type": "code",
      "source": [
        "# Loading the ROM from Github (see AirROM.py for an overview on its implementation)\n",
        "from AirROM import downloadROM\n",
        "ntrain = int(0.8*len(u))\n",
        "\n",
        "ROM = downloadROM(mu[:ntrain], u[:ntrain])\n",
        "clc()"
      ],
      "metadata": {
        "id": "9DqoVSoZm14P"
      },
      "execution_count": null,
      "outputs": []
    },
    {
      "cell_type": "code",
      "source": [
        "# Performance check\n",
        "l2 = L2(FOMspace)\n",
        "clc()\n",
        "mutrue, utrue = mu[ntrain:], u[ntrain:]\n",
        "uROM = ROM(mutrue)\n",
        "ROMerror = mre(l2)(utrue, uROM)\n",
        "print(\"ROM error: %s.\" % num2p(ROMerror))"
      ],
      "metadata": {
        "id": "TiecyhhOCemj",
        "outputId": "d3f7f9b1-d1af-4f24-9dba-6aa6b6de2b44",
        "colab": {
          "base_uri": "https://localhost:8080/"
        }
      },
      "execution_count": null,
      "outputs": [
        {
          "output_type": "stream",
          "name": "stdout",
          "text": [
            "ROM error: 3.50%.\n"
          ]
        }
      ]
    },
    {
      "cell_type": "markdown",
      "source": [
        "## **Digital twin simulation**\n",
        "Two main ingredients:\n",
        "\n",
        "1) a reconstruction routine, for finding $\\theta$ given the sensor measurements;\n",
        "\n",
        "2) an optimization routine, for choosing $d_{1},\\dots,d_{4}$."
      ],
      "metadata": {
        "id": "8fMUf2vvhh-j"
      }
    },
    {
      "cell_type": "code",
      "source": [
        "## Pollutant distribution, protected area (city) and sensors location (white crosses)\n",
        "\n",
        "import numpy as np\n",
        "isensors = [4321, 6496,  8671, 10396, 3809, 5864, 8127, 9972, 3329, 5264, 7551, 9516]\n",
        "sensors = fe.coordinates(FOMspace)[isensors]\n",
        "plt.figure(figsize = (3, 3))\n",
        "fe.plot(utrue[0], FOMspace, cmap = 'jet', levels = 50)\n",
        "plt.plot(*sensors.T, 'x', color = 'white', markersize = 5)\n",
        "plotTarget()"
      ],
      "metadata": {
        "colab": {
          "base_uri": "https://localhost:8080/",
          "height": 223
        },
        "id": "qoyF0nJg-Y20",
        "outputId": "ec8eff47-b8dd-43bf-c457-5b18d0a7336d"
      },
      "execution_count": null,
      "outputs": [
        {
          "output_type": "display_data",
          "data": {
            "text/plain": [
              "<Figure size 300x300 with 1 Axes>"
            ],
            "image/png": "[encoded data removed]"
          },
          "metadata": {}
        }
      ]
    },
    {
      "cell_type": "code",
      "source": [
        "# Inverse problem (retrieving theta from sensor measurements)\n",
        "\n",
        "def findTheta(d1, d2, d3, d4, sensors_data, thetamin = -pi/4.0, thetamax = pi/4.0):\n",
        "  \"\"\"Given the current state and the sensor measurments, this function should output\n",
        "  an estimate for the wind direction theta.\n",
        "\n",
        "  Input:\n",
        "    d1  (float)   production rate for factory 1\n",
        "    ..  ..        ..\n",
        "    d4  (float)   production rate for factory 4\n",
        "\n",
        "    sensors_data  (torch.tensor)   1D tensor listing sensor values (should have lenght = # of sensors)\n",
        "\n",
        "    thetamin      (float) minimum wind angle, to restrict the search. Optional. Defaults to -pi/4.\n",
        "    thetamax      (float) maximum wind angle, to restrict the search. Optional. Defaults to pi/4.\n",
        "  \"\"\"\n",
        "\n",
        "  thetas = np.linspace(thetamin, thetamax, 1000)\n",
        "  candidates = CPU.zeros(1000, 5)\n",
        "  candidates[:,-1] = CPU.tensor(thetas)\n",
        "  candidates[:, 0] = d1\n",
        "  candidates[:, 1] = d2\n",
        "  candidates[:, 2] = d3\n",
        "  candidates[:, 3] = d4\n",
        "\n",
        "  solutions = ROM(candidates)\n",
        "  measurements_gap = ((solutions[:, isensors] - sensors_data.reshape(1, -1))**2).sum(axis = -1)\n",
        "  return thetas[measurements_gap.argmin()]"
      ],
      "metadata": {
        "id": "i-qp8nKzC3Xb"
      },
      "execution_count": null,
      "outputs": []
    },
    {
      "cell_type": "code",
      "source": [
        "# Optimization problem (choosing the best production policy)\n",
        "\n",
        "def bestPolicy(theta, d1 = 10.0, d2 = 10.0, d3 = 10.0, d4 = 10.0):\n",
        "  \"\"\"Given the wind direction, it should return an optimal production rate for the four factories.\n",
        "\n",
        "  Input:\n",
        "    theta (float) current wind angle\n",
        "    d1  (float)   initial guess for the production rate of factory 1. Optional. Defaults to 10.\n",
        "    ..  ..        ..\n",
        "    d4  (float)   initial guess for the production rate of factory 4. Optional. Defaults to 10.\n",
        "\n",
        "    sensors_data  (torch.tensor)   1D tensor listing sensor values (should have lenght = # of sensors)\n",
        "\n",
        "    thetamin      (float) minimum wind angle, to restrict the search. Optional. Defaults to -pi/4.\n",
        "    thetamax      (float) maximum wind angle, to restrict the search. Optional. Defaults to pi/4.\n",
        "  \"\"\"\n",
        "\n",
        "\n",
        "  from scipy.optimize import minimize\n",
        "\n",
        "  # To handle the production constraint, d1+..+d4 = 40, we rely on a re-parametrization trick.\n",
        "  # We let y_i = sigmoid(z_i) and d_i = 40*y_i/(y_1+...+y_4).\n",
        "  #\n",
        "  # Viceversa, given d_i, we retrieve z_i as z_i = log(d_i/40) - log(1-d_i/40).\n",
        "\n",
        "  sigmoid = lambda x: 0.5*np.tanh(x)+0.5 # auxiliary transformation, mapping real values onto (0, 1)\n",
        "\n",
        "  def costFunctional(z):\n",
        "    d = sigmoid(z)\n",
        "    d = 40*d/d.sum() # normalization\n",
        "    parameters = CPU.tensor([list(d) + [theta]])\n",
        "    state = ROM(parameters).reshape(-1) # Try replacing with FOMsolver(*d, theta) to appreciate the speed up!\n",
        "    return PollutionLevel(state).item()\n",
        "\n",
        "  d0 = np.array([d1, d2, d3, d4])/40.0\n",
        "  z0 = np.log(d0)-np.log(1.0-d0) # logit transform (inverse of sigmoid)\n",
        "\n",
        "  # To increase our chances of finding the actual minimum, we run two attempts: one starting from\n",
        "  # the barycenter (d_i = 10), and one from the initial guess.\n",
        "  # The uniform configuration, z_i = 0.0, is a way to parametrize the case d_i = 10.0.\n",
        "\n",
        "  min1 = minimize(costFunctional, z0, method = 'Powell') # from given guess\n",
        "  min2 = minimize(costFunctional, [0.0, 0.0, 0.0, 0.0], method = 'Powell') # from barycenter\n",
        "\n",
        "  zoptimal = min1['x'] if min1['fun']<min2['fun'] else min2['x'] # pick best\n",
        "\n",
        "  # Map back from z to d\n",
        "  doptimal = sigmoid(zoptimal)\n",
        "  doptimal = 40*doptimal/doptimal.sum()\n",
        "\n",
        "  return doptimal"
      ],
      "metadata": {
        "id": "OlIHsMLREpAF"
      },
      "execution_count": null,
      "outputs": []
    },
    {
      "cell_type": "markdown",
      "source": [
        "### Simulation"
      ],
      "metadata": {
        "id": "fmsA6tn3wRpg"
      }
    },
    {
      "cell_type": "code",
      "source": [
        "def getSensorMeasurements(d1, d2, d3, d4, theta):\n",
        "  \"\"\"This function simulates the collection of real-data. In practice, it should consist in\n",
        "  the actual retrieval of sensors measurements. Here, for didactical purposes, we use the FOM as\n",
        "  a ground truth reference.\n",
        "\n",
        "  Note: since we rely on the FOM as a replacement of the real-world, this will slow-down the code.\n",
        "  In real applications, this would not happen.\"\"\"\n",
        "\n",
        "  state = FOMsolver(d1, d2, d3, d4, thetas[i])\n",
        "  sensors_data = state[isensors]\n",
        "  return sensors_data\n",
        "\n",
        "def getCityPollution(d1, d2, d3, d4, theta):\n",
        "    \"\"\"This function simulates the interaction with the city, which measures and reports the air\n",
        "    pollution level. Once again, for didactical purposes, we use the FOM as a ground truth reference.\n",
        "    However, we remark that in practical applications the FOM would not be required.\"\"\"\n",
        "\n",
        "    state = FOMsolver(d1, d2, d3, d4, thetas[i])\n",
        "    return PollutionLevel(state)"
      ],
      "metadata": {
        "id": "rBDxROHMwXMe"
      },
      "execution_count": null,
      "outputs": []
    },
    {
      "cell_type": "code",
      "source": [
        "# Time simulation\n",
        "\n",
        "days = 50\n",
        "thetas = np.linspace(-pi/4.0, pi/4.0, days) # ground truth wind directions over time: we pretend not to know them!!\n",
        "\n",
        "levels = [] # pollution levels across the 50 days\n",
        "policies = [] # list of production stream policies in time\n",
        "th = [] # estimate wind directions\n",
        "\n",
        "# Initial policy\n",
        "policies.append([10.0, 10.0, 10.0, 10.0])\n",
        "\n",
        "for i in range(days):\n",
        "\n",
        "  print(\"Running simulation for day %d...\" % (i+1))\n",
        "\n",
        "  # Real-world measurements\n",
        "  d1, d2, d3, d4 = policies[-1]\n",
        "  sensors_data = getSensorMeasurements(d1, d2, d3, d4, thetas[i])\n",
        "\n",
        "  # Digital twin update\n",
        "  if(i==0):\n",
        "    estimatedTheta = findTheta(d1, d2, d3, d4, sensors_data)\n",
        "  else:\n",
        "    # If at least 1 day has passed, we can limit our search within a neighbourhood, assuming\n",
        "    # a continuous wind variation\n",
        "    estimatedTheta = findTheta(d1, d2, d3, d4, sensors_data, estimatedTheta-0.2, estimatedTheta+0.2)\n",
        "  th.append(estimatedTheta)\n",
        "\n",
        "  # Optimal control (digital-twin)\n",
        "  newpolicy = bestPolicy(estimatedTheta, d1, d2, d3, d4)\n",
        "\n",
        "  # Real-world update\n",
        "  policies.append(newpolicy)\n",
        "  d1, d2, d3, d4 = policies[-1]\n",
        "  pollution = getCityPollution(d1, d2, d3, d4, thetas[i])\n",
        "  levels.append(pollution)\n",
        "  clc(wait = True)\n",
        "print(\"Simulation complete.\")"
      ],
      "metadata": {
        "colab": {
          "base_uri": "https://localhost:8080/"
        },
        "id": "nVyi-5LBHtag",
        "outputId": "55074e80-5005-4591-8ce9-8f26795d949e"
      },
      "execution_count": null,
      "outputs": [
        {
          "output_type": "stream",
          "name": "stdout",
          "text": [
            "Simulation complete.\n"
          ]
        }
      ]
    },
    {
      "cell_type": "code",
      "source": [
        "plot(np.arange(days), levels, label = 'Pollution level')\n",
        "plot([0, days], [0.1, 0.1], '--r', label = 'Law limit')\n",
        "plt.axis([-2, days+2, -0.01, 1])\n",
        "plt.legend()\n",
        "plt.show()"
      ],
      "metadata": {
        "colab": {
          "base_uri": "https://localhost:8080/",
          "height": 435
        },
        "id": "MipGva5gK-od",
        "outputId": "2d672b43-a317-4383-8d93-894890048d25"
      },
      "execution_count": null,
      "outputs": [
        {
          "output_type": "display_data",
          "data": {
            "text/plain": [
              "<Figure size 640x480 with 1 Axes>"
            ],
            "image/png": "[encoded data removed]"
          },
          "metadata": {}
        }
      ]
    },
    {
      "cell_type": "code",
      "source": [],
      "metadata": {
        "id": "WV_f3RWoNjKG"
      },
      "execution_count": null,
      "outputs": []
    }
  ],
  "metadata": {
    "colab": {
      "provenance": [],
      "authorship_tag": "ABX9TyPieeIH37GFrTyFCE/TS6Ei",
      "include_colab_link": true
    },
    "kernelspec": {
      "display_name": "Python 3",
      "name": "python3"
    },
    "language_info": {
      "name": "python"
    }
  },
  "nbformat": 4,
  "nbformat_minor": 0
}